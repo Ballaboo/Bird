{
 "cells": [
  {
   "cell_type": "markdown",
   "id": "1f6106ad",
   "metadata": {},
   "source": [
    "## 1. Alternative model"
   ]
  },
  {
   "cell_type": "code",
   "execution_count": 2,
   "id": "95e5ba60-88cf-4dda-b8a4-699a3d67d87f",
   "metadata": {},
   "outputs": [
    {
     "name": "stdout",
     "output_type": "stream",
     "text": [
      "3.10.11 (tags/v3.10.11:7d4cc5a, Apr  5 2023, 00:38:17) [MSC v.1929 64 bit (AMD64)]\n"
     ]
    }
   ],
   "source": [
    "import sys\n",
    "print(sys.version)"
   ]
  },
  {
   "cell_type": "markdown",
   "id": "667465b7-9094-4f5c-99fd-45af70d24133",
   "metadata": {},
   "source": [
    "## 1.1 Retrive dependecies"
   ]
  },
  {
   "cell_type": "code",
   "execution_count": 3,
   "id": "a7022e34",
   "metadata": {
    "tags": []
   },
   "outputs": [
    {
     "name": "stdout",
     "output_type": "stream",
     "text": [
      "Requirement already satisfied: pip in c:\\users\\leeju\\birdproject\\birdproject\\lib\\site-packages (23.2.1)\n",
      "Note: you may need to restart the kernel to use updated packages.\n"
     ]
    }
   ],
   "source": [
    "# Check you have latest pip version\n",
    "%pip install --upgrade pip"
   ]
  },
  {
   "cell_type": "code",
   "execution_count": 5,
   "id": "3fd3ea4e",
   "metadata": {
    "collapsed": true,
    "jupyter": {
     "outputs_hidden": true
    },
    "tags": []
   },
   "outputs": [
    {
     "name": "stdout",
     "output_type": "stream",
     "text": [
      "Requirement already satisfied: tensorflow==2.8 in c:\\users\\leeju\\birdproject\\birdproject\\lib\\site-packages (2.8.0)\n",
      "Requirement already satisfied: tensorflow-gpu==2.8 in c:\\users\\leeju\\birdproject\\birdproject\\lib\\site-packages (2.8.0)\n",
      "Requirement already satisfied: tensorflow-io in c:\\users\\leeju\\birdproject\\birdproject\\lib\\site-packages (0.31.0)\n",
      "Requirement already satisfied: matplotlib in c:\\users\\leeju\\birdproject\\birdproject\\lib\\site-packages (3.7.2)\n",
      "Requirement already satisfied: librosa in c:\\users\\leeju\\birdproject\\birdproject\\lib\\site-packages (0.10.0.post2)\n",
      "Requirement already satisfied: absl-py>=0.4.0 in c:\\users\\leeju\\birdproject\\birdproject\\lib\\site-packages (from tensorflow==2.8) (1.4.0)\n",
      "Requirement already satisfied: astunparse>=1.6.0 in c:\\users\\leeju\\birdproject\\birdproject\\lib\\site-packages (from tensorflow==2.8) (1.6.3)\n",
      "Requirement already satisfied: flatbuffers>=1.12 in c:\\users\\leeju\\birdproject\\birdproject\\lib\\site-packages (from tensorflow==2.8) (23.5.26)\n",
      "Requirement already satisfied: gast>=0.2.1 in c:\\users\\leeju\\birdproject\\birdproject\\lib\\site-packages (from tensorflow==2.8) (0.5.4)\n",
      "Requirement already satisfied: google-pasta>=0.1.1 in c:\\users\\leeju\\birdproject\\birdproject\\lib\\site-packages (from tensorflow==2.8) (0.2.0)\n",
      "Requirement already satisfied: h5py>=2.9.0 in c:\\users\\leeju\\birdproject\\birdproject\\lib\\site-packages (from tensorflow==2.8) (3.9.0)\n",
      "Requirement already satisfied: keras-preprocessing>=1.1.1 in c:\\users\\leeju\\birdproject\\birdproject\\lib\\site-packages (from tensorflow==2.8) (1.1.2)\n",
      "Requirement already satisfied: libclang>=9.0.1 in c:\\users\\leeju\\birdproject\\birdproject\\lib\\site-packages (from tensorflow==2.8) (16.0.6)\n",
      "Requirement already satisfied: numpy>=1.20 in c:\\users\\leeju\\birdproject\\birdproject\\lib\\site-packages (from tensorflow==2.8) (1.24.4)\n",
      "Requirement already satisfied: opt-einsum>=2.3.2 in c:\\users\\leeju\\birdproject\\birdproject\\lib\\site-packages (from tensorflow==2.8) (3.3.0)\n",
      "Requirement already satisfied: protobuf>=3.9.2 in c:\\users\\leeju\\birdproject\\birdproject\\lib\\site-packages (from tensorflow==2.8) (3.20.1)\n",
      "Requirement already satisfied: setuptools in c:\\users\\leeju\\birdproject\\birdproject\\lib\\site-packages (from tensorflow==2.8) (65.5.0)\n",
      "Requirement already satisfied: six>=1.12.0 in c:\\users\\leeju\\birdproject\\birdproject\\lib\\site-packages (from tensorflow==2.8) (1.16.0)\n",
      "Requirement already satisfied: termcolor>=1.1.0 in c:\\users\\leeju\\birdproject\\birdproject\\lib\\site-packages (from tensorflow==2.8) (2.3.0)\n",
      "Requirement already satisfied: typing-extensions>=3.6.6 in c:\\users\\leeju\\birdproject\\birdproject\\lib\\site-packages (from tensorflow==2.8) (4.7.1)\n",
      "Requirement already satisfied: wrapt>=1.11.0 in c:\\users\\leeju\\birdproject\\birdproject\\lib\\site-packages (from tensorflow==2.8) (1.15.0)\n",
      "Requirement already satisfied: tensorboard<2.9,>=2.8 in c:\\users\\leeju\\birdproject\\birdproject\\lib\\site-packages (from tensorflow==2.8) (2.8.0)\n",
      "Requirement already satisfied: tf-estimator-nightly==2.8.0.dev2021122109 in c:\\users\\leeju\\birdproject\\birdproject\\lib\\site-packages (from tensorflow==2.8) (2.8.0.dev2021122109)\n",
      "Requirement already satisfied: keras<2.9,>=2.8.0rc0 in c:\\users\\leeju\\birdproject\\birdproject\\lib\\site-packages (from tensorflow==2.8) (2.8.0)\n",
      "Requirement already satisfied: tensorflow-io-gcs-filesystem>=0.23.1 in c:\\users\\leeju\\birdproject\\birdproject\\lib\\site-packages (from tensorflow==2.8) (0.31.0)\n",
      "Requirement already satisfied: grpcio<2.0,>=1.24.3 in c:\\users\\leeju\\birdproject\\birdproject\\lib\\site-packages (from tensorflow==2.8) (1.56.2)\n",
      "Requirement already satisfied: contourpy>=1.0.1 in c:\\users\\leeju\\birdproject\\birdproject\\lib\\site-packages (from matplotlib) (1.1.0)\n",
      "Requirement already satisfied: cycler>=0.10 in c:\\users\\leeju\\birdproject\\birdproject\\lib\\site-packages (from matplotlib) (0.11.0)\n",
      "Requirement already satisfied: fonttools>=4.22.0 in c:\\users\\leeju\\birdproject\\birdproject\\lib\\site-packages (from matplotlib) (4.42.0)\n",
      "Requirement already satisfied: kiwisolver>=1.0.1 in c:\\users\\leeju\\birdproject\\birdproject\\lib\\site-packages (from matplotlib) (1.4.4)\n",
      "Requirement already satisfied: packaging>=20.0 in c:\\users\\leeju\\birdproject\\birdproject\\lib\\site-packages (from matplotlib) (23.1)\n",
      "Requirement already satisfied: pillow>=6.2.0 in c:\\users\\leeju\\birdproject\\birdproject\\lib\\site-packages (from matplotlib) (10.0.0)\n",
      "Requirement already satisfied: pyparsing<3.1,>=2.3.1 in c:\\users\\leeju\\birdproject\\birdproject\\lib\\site-packages (from matplotlib) (3.0.9)\n",
      "Requirement already satisfied: python-dateutil>=2.7 in c:\\users\\leeju\\birdproject\\birdproject\\lib\\site-packages (from matplotlib) (2.8.2)\n",
      "Requirement already satisfied: audioread>=2.1.9 in c:\\users\\leeju\\birdproject\\birdproject\\lib\\site-packages (from librosa) (3.0.0)\n",
      "Requirement already satisfied: scipy>=1.2.0 in c:\\users\\leeju\\birdproject\\birdproject\\lib\\site-packages (from librosa) (1.11.1)\n",
      "Requirement already satisfied: scikit-learn>=0.20.0 in c:\\users\\leeju\\birdproject\\birdproject\\lib\\site-packages (from librosa) (1.3.0)\n",
      "Requirement already satisfied: joblib>=0.14 in c:\\users\\leeju\\birdproject\\birdproject\\lib\\site-packages (from librosa) (1.3.1)\n",
      "Requirement already satisfied: decorator>=4.3.0 in c:\\users\\leeju\\birdproject\\birdproject\\lib\\site-packages (from librosa) (5.1.1)\n",
      "Requirement already satisfied: numba>=0.51.0 in c:\\users\\leeju\\birdproject\\birdproject\\lib\\site-packages (from librosa) (0.57.1)\n",
      "Requirement already satisfied: soundfile>=0.12.1 in c:\\users\\leeju\\birdproject\\birdproject\\lib\\site-packages (from librosa) (0.12.1)\n",
      "Requirement already satisfied: pooch<1.7,>=1.0 in c:\\users\\leeju\\birdproject\\birdproject\\lib\\site-packages (from librosa) (1.6.0)\n",
      "Requirement already satisfied: soxr>=0.3.2 in c:\\users\\leeju\\birdproject\\birdproject\\lib\\site-packages (from librosa) (0.3.5)\n",
      "Requirement already satisfied: lazy-loader>=0.1 in c:\\users\\leeju\\birdproject\\birdproject\\lib\\site-packages (from librosa) (0.3)\n",
      "Requirement already satisfied: msgpack>=1.0 in c:\\users\\leeju\\birdproject\\birdproject\\lib\\site-packages (from librosa) (1.0.5)\n",
      "Requirement already satisfied: wheel<1.0,>=0.23.0 in c:\\users\\leeju\\birdproject\\birdproject\\lib\\site-packages (from astunparse>=1.6.0->tensorflow==2.8) (0.41.0)\n",
      "Requirement already satisfied: llvmlite<0.41,>=0.40.0dev0 in c:\\users\\leeju\\birdproject\\birdproject\\lib\\site-packages (from numba>=0.51.0->librosa) (0.40.1)\n",
      "Requirement already satisfied: appdirs>=1.3.0 in c:\\users\\leeju\\birdproject\\birdproject\\lib\\site-packages (from pooch<1.7,>=1.0->librosa) (1.4.4)\n",
      "Requirement already satisfied: requests>=2.19.0 in c:\\users\\leeju\\birdproject\\birdproject\\lib\\site-packages (from pooch<1.7,>=1.0->librosa) (2.31.0)\n",
      "Requirement already satisfied: threadpoolctl>=2.0.0 in c:\\users\\leeju\\birdproject\\birdproject\\lib\\site-packages (from scikit-learn>=0.20.0->librosa) (3.2.0)\n",
      "Requirement already satisfied: cffi>=1.0 in c:\\users\\leeju\\birdproject\\birdproject\\lib\\site-packages (from soundfile>=0.12.1->librosa) (1.15.1)\n",
      "Requirement already satisfied: google-auth<3,>=1.6.3 in c:\\users\\leeju\\birdproject\\birdproject\\lib\\site-packages (from tensorboard<2.9,>=2.8->tensorflow==2.8) (2.22.0)\n",
      "Requirement already satisfied: google-auth-oauthlib<0.5,>=0.4.1 in c:\\users\\leeju\\birdproject\\birdproject\\lib\\site-packages (from tensorboard<2.9,>=2.8->tensorflow==2.8) (0.4.6)\n",
      "Requirement already satisfied: markdown>=2.6.8 in c:\\users\\leeju\\birdproject\\birdproject\\lib\\site-packages (from tensorboard<2.9,>=2.8->tensorflow==2.8) (3.4.4)\n",
      "Requirement already satisfied: tensorboard-data-server<0.7.0,>=0.6.0 in c:\\users\\leeju\\birdproject\\birdproject\\lib\\site-packages (from tensorboard<2.9,>=2.8->tensorflow==2.8) (0.6.1)\n",
      "Requirement already satisfied: tensorboard-plugin-wit>=1.6.0 in c:\\users\\leeju\\birdproject\\birdproject\\lib\\site-packages (from tensorboard<2.9,>=2.8->tensorflow==2.8) (1.8.1)\n",
      "Requirement already satisfied: werkzeug>=0.11.15 in c:\\users\\leeju\\birdproject\\birdproject\\lib\\site-packages (from tensorboard<2.9,>=2.8->tensorflow==2.8) (2.3.6)\n",
      "Requirement already satisfied: pycparser in c:\\users\\leeju\\birdproject\\birdproject\\lib\\site-packages (from cffi>=1.0->soundfile>=0.12.1->librosa) (2.21)\n",
      "Requirement already satisfied: cachetools<6.0,>=2.0.0 in c:\\users\\leeju\\birdproject\\birdproject\\lib\\site-packages (from google-auth<3,>=1.6.3->tensorboard<2.9,>=2.8->tensorflow==2.8) (5.3.1)\n",
      "Requirement already satisfied: pyasn1-modules>=0.2.1 in c:\\users\\leeju\\birdproject\\birdproject\\lib\\site-packages (from google-auth<3,>=1.6.3->tensorboard<2.9,>=2.8->tensorflow==2.8) (0.3.0)\n",
      "Requirement already satisfied: rsa<5,>=3.1.4 in c:\\users\\leeju\\birdproject\\birdproject\\lib\\site-packages (from google-auth<3,>=1.6.3->tensorboard<2.9,>=2.8->tensorflow==2.8) (4.9)\n",
      "Requirement already satisfied: urllib3<2.0 in c:\\users\\leeju\\birdproject\\birdproject\\lib\\site-packages (from google-auth<3,>=1.6.3->tensorboard<2.9,>=2.8->tensorflow==2.8) (1.26.16)\n",
      "Requirement already satisfied: requests-oauthlib>=0.7.0 in c:\\users\\leeju\\birdproject\\birdproject\\lib\\site-packages (from google-auth-oauthlib<0.5,>=0.4.1->tensorboard<2.9,>=2.8->tensorflow==2.8) (1.3.1)\n",
      "Requirement already satisfied: charset-normalizer<4,>=2 in c:\\users\\leeju\\birdproject\\birdproject\\lib\\site-packages (from requests>=2.19.0->pooch<1.7,>=1.0->librosa) (3.2.0)\n",
      "Requirement already satisfied: idna<4,>=2.5 in c:\\users\\leeju\\birdproject\\birdproject\\lib\\site-packages (from requests>=2.19.0->pooch<1.7,>=1.0->librosa) (3.4)\n",
      "Requirement already satisfied: certifi>=2017.4.17 in c:\\users\\leeju\\birdproject\\birdproject\\lib\\site-packages (from requests>=2.19.0->pooch<1.7,>=1.0->librosa) (2023.7.22)\n",
      "Requirement already satisfied: MarkupSafe>=2.1.1 in c:\\users\\leeju\\birdproject\\birdproject\\lib\\site-packages (from werkzeug>=0.11.15->tensorboard<2.9,>=2.8->tensorflow==2.8) (2.1.3)\n",
      "Requirement already satisfied: pyasn1<0.6.0,>=0.4.6 in c:\\users\\leeju\\birdproject\\birdproject\\lib\\site-packages (from pyasn1-modules>=0.2.1->google-auth<3,>=1.6.3->tensorboard<2.9,>=2.8->tensorflow==2.8) (0.5.0)\n",
      "Requirement already satisfied: oauthlib>=3.0.0 in c:\\users\\leeju\\birdproject\\birdproject\\lib\\site-packages (from requests-oauthlib>=0.7.0->google-auth-oauthlib<0.5,>=0.4.1->tensorboard<2.9,>=2.8->tensorflow==2.8) (3.2.2)\n",
      "Note: you may need to restart the kernel to use updated packages.\n"
     ]
    }
   ],
   "source": [
    "# Install tensorflow + matplot. NumPy already built in tensorflow. Tensorflow-io is for built in file system\n",
    "%pip install tensorflow==2.8 tensorflow-gpu==2.8 tensorflow-io matplotlib librosa"
   ]
  },
  {
   "cell_type": "code",
   "execution_count": 6,
   "id": "9709be13-50c5-41c3-9f8c-af41d1d0118b",
   "metadata": {
    "collapsed": true,
    "jupyter": {
     "outputs_hidden": true
    },
    "tags": []
   },
   "outputs": [
    {
     "name": "stdout",
     "output_type": "stream",
     "text": [
      "Requirement already satisfied: pandas in c:\\users\\leeju\\birdproject\\birdproject\\lib\\site-packages (2.0.3)\n",
      "Requirement already satisfied: python-dateutil>=2.8.2 in c:\\users\\leeju\\birdproject\\birdproject\\lib\\site-packages (from pandas) (2.8.2)\n",
      "Requirement already satisfied: pytz>=2020.1 in c:\\users\\leeju\\birdproject\\birdproject\\lib\\site-packages (from pandas) (2023.3)\n",
      "Requirement already satisfied: tzdata>=2022.1 in c:\\users\\leeju\\birdproject\\birdproject\\lib\\site-packages (from pandas) (2023.3)\n",
      "Requirement already satisfied: numpy>=1.21.0 in c:\\users\\leeju\\birdproject\\birdproject\\lib\\site-packages (from pandas) (1.24.4)\n",
      "Requirement already satisfied: six>=1.5 in c:\\users\\leeju\\birdproject\\birdproject\\lib\\site-packages (from python-dateutil>=2.8.2->pandas) (1.16.0)\n",
      "Note: you may need to restart the kernel to use updated packages.\n"
     ]
    }
   ],
   "source": [
    "%pip install pandas"
   ]
  },
  {
   "cell_type": "markdown",
   "id": "ce96a070-d813-4d4c-af6b-004c6c3cd804",
   "metadata": {
    "tags": []
   },
   "source": [
    "## 2. Import dependencies"
   ]
  },
  {
   "cell_type": "code",
   "execution_count": 7,
   "id": "ce1aa1e7",
   "metadata": {
    "tags": []
   },
   "outputs": [],
   "source": [
    "#Import dependencies\n",
    "import os\n",
    "import librosa\n",
    "from matplotlib import pyplot as plt\n",
    "import pandas as pd\n",
    "import numpy as n\n",
    "import tensorflow as tf\n",
    "import tensorflow_io as tfio"
   ]
  },
  {
   "cell_type": "code",
   "execution_count": 8,
   "id": "0117d270-9046-4874-8a9c-ef8794c6f84d",
   "metadata": {
    "tags": []
   },
   "outputs": [],
   "source": [
    "#Prevent OOM error by setting consumption on memory growth\n",
    "gpus = tf.config.experimental.list_physical_devices('GPU')\n",
    "for gpu in gpus:\n",
    "    tf.config.experimental.set_memory_growth(gpu, True)"
   ]
  },
  {
   "cell_type": "code",
   "execution_count": 9,
   "id": "1d2ea445-039c-4eac-b71f-b2ff2d21ed4d",
   "metadata": {
    "tags": []
   },
   "outputs": [
    {
     "name": "stdout",
     "output_type": "stream",
     "text": [
      "[PhysicalDevice(name='/physical_device:GPU:0', device_type='GPU')]\n"
     ]
    }
   ],
   "source": [
    "#Show available GPU\n",
    "#tf.config.list_physical_devices('gpu')\n",
    "#From stackoverflow\n",
    "\n",
    "physical_devices = tf.config.experimental.list_physical_devices('GPU')\n",
    "print(physical_devices)\n",
    "if physical_devices:\n",
    "  tf.config.experimental.set_memory_growth(physical_devices[0], True)\n",
    "else:\n",
    "    break"
   ]
  },
  {
   "cell_type": "markdown",
   "id": "c4f966ac",
   "metadata": {},
   "source": [
    "## 3. Data management"
   ]
  },
  {
   "cell_type": "code",
   "execution_count": 69,
   "id": "c26dedcf",
   "metadata": {
    "tags": []
   },
   "outputs": [],
   "source": [
    "#Define file path\n",
    "bird_file=os.path.join('C:\\\\Users', 'leeju', 'BirdProject', 'data_for_code_new', 'fold1', 'Australasianbittern.12.wav')\n",
    "\n",
    "#bird_directory = r'C:\\Users\\leeju\\BirdProject\\data_for_code_new\\dataset\\fold1'"
   ]
  },
  {
   "cell_type": "code",
   "execution_count": 70,
   "id": "fa66a0ce-93c2-4c77-a5fc-3ce577b385cc",
   "metadata": {
    "tags": []
   },
   "outputs": [
    {
     "data": {
      "text/plain": [
       "'C:\\\\Users\\\\leeju\\\\BirdProject\\\\data_for_code_new\\\\dataset\\\\fold1\\\\Australasianbittern.12.wav'"
      ]
     },
     "execution_count": 70,
     "metadata": {},
     "output_type": "execute_result"
    }
   ],
   "source": [
    "bird_file"
   ]
  },
  {
   "cell_type": "code",
   "execution_count": 66,
   "id": "1f53a44d-1d3e-440f-b22f-dc3a71c55365",
   "metadata": {
    "tags": []
   },
   "outputs": [],
   "source": [
    "#Go into directory and search .wav files for Tensorflow dataset\n",
    "wav_pattern = (bird_directory, '*.wav')\n",
    "file_dataset = tf.data.Dataset.list_files(wav_pattern)"
   ]
  },
  {
   "cell_type": "code",
   "execution_count": 68,
   "id": "acdf9f83-2246-47d7-8946-fe8f92718ee0",
   "metadata": {
    "tags": []
   },
   "outputs": [
    {
     "data": {
      "text/plain": [
       "<ShuffleDataset element_spec=TensorSpec(shape=(), dtype=tf.string, name=None)>"
      ]
     },
     "execution_count": 68,
     "metadata": {},
     "output_type": "execute_result"
    }
   ],
   "source": [
    "file_dataset"
   ]
  },
  {
   "cell_type": "code",
   "execution_count": 67,
   "id": "133d36d0-7ac2-41bb-826d-0297a5c95896",
   "metadata": {
    "tags": []
   },
   "outputs": [
    {
     "name": "stdout",
     "output_type": "stream",
     "text": [
      "b'C:\\\\Users\\\\leeju\\\\BirdProject\\\\data_for_code_new\\\\dataset\\\\fold1'\n"
     ]
    }
   ],
   "source": [
    "#Check what our Tensorflow dataset currently have\n",
    "for bird_directory in file_dataset.as_numpy_iterator():\n",
    "    print(bird_directory)"
   ]
  },
  {
   "cell_type": "markdown",
   "id": "38b4d4ac-9755-4f25-ae74-98329281a328",
   "metadata": {},
   "source": [
    "## 3.1. import into Tensorflow dataset format"
   ]
  },
  {
   "cell_type": "code",
   "execution_count": null,
   "id": "a8dd7b84",
   "metadata": {},
   "outputs": [],
   "source": []
  },
  {
   "cell_type": "code",
   "execution_count": 29,
   "id": "0234cb08-3a48-49a5-a806-91d198f7796e",
   "metadata": {},
   "outputs": [
    {
     "name": "stdout",
     "output_type": "stream",
     "text": [
      "C:\\Users\\leeju\\BirdProject\n"
     ]
    }
   ],
   "source": []
  },
  {
   "cell_type": "code",
   "execution_count": null,
   "id": "09bcedd5-18a4-4dbd-83e7-735886c4944f",
   "metadata": {},
   "outputs": [],
   "source": []
  }
 ],
 "metadata": {
  "kernelspec": {
   "display_name": "birdproject",
   "language": "python",
   "name": "birdproject"
  },
  "language_info": {
   "codemirror_mode": {
    "name": "ipython",
    "version": 3
   },
   "file_extension": ".py",
   "mimetype": "text/x-python",
   "name": "python",
   "nbconvert_exporter": "python",
   "pygments_lexer": "ipython3",
   "version": "3.10.11"
  }
 },
 "nbformat": 4,
 "nbformat_minor": 5
}
